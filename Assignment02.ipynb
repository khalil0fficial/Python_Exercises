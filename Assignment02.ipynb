{
  "nbformat": 4,
  "nbformat_minor": 0,
  "metadata": {
    "colab": {
      "name": "Assignment02.ipynb",
      "provenance": [],
      "collapsed_sections": [],
      "authorship_tag": "ABX9TyOzRVhvMuZozga0duAPgEit",
      "include_colab_link": true
    },
    "kernelspec": {
      "name": "python3",
      "display_name": "Python 3"
    },
    "language_info": {
      "name": "python"
    }
  },
  "cells": [
    {
      "cell_type": "markdown",
      "metadata": {
        "id": "view-in-github",
        "colab_type": "text"
      },
      "source": [
        "<a href=\"https://colab.research.google.com/github/khalil0fficial/Python_Exercises/blob/main/Assignment02.ipynb\" target=\"_parent\"><img src=\"https://colab.research.google.com/assets/colab-badge.svg\" alt=\"Open In Colab\"/></a>"
      ]
    },
    {
      "cell_type": "code",
      "source": [
        "# EX1: Create a function in python\n",
        "\"\"\"\n",
        "Write a program to create a function that takes two arguments name and age and then print their value \n",
        "\"\"\"\n",
        "\n",
        "def showMsg(name, age):\n",
        "  print(\"Hello Mr. {}, your age is {}\".format(name, age))\n",
        "\n",
        "name ='John'\n",
        "age = 25\n",
        "\n",
        "showMsg(name, age)"
      ],
      "metadata": {
        "colab": {
          "base_uri": "https://localhost:8080/"
        },
        "id": "UnF2tgNK3uC7",
        "outputId": "7fab1375-fa28-46e0-b332-555733b42c3b"
      },
      "execution_count": null,
      "outputs": [
        {
          "output_type": "stream",
          "name": "stdout",
          "text": [
            "Hello Mr. John, your age is 25\n"
          ]
        }
      ]
    },
    {
      "cell_type": "code",
      "source": [
        "# EX2: Create a function with variable length of arguments\n",
        "\"\"\"\n",
        "Write a program to create function func1() to accept varaible length of arguments and\n",
        "print their value.\n",
        "\n",
        "Note: Create a function in such way that we can pass any number of arguments to this function and the function should process them and display each argument 's value\n",
        "\n",
        "Expected Output:\n",
        "\n",
        "Printing values\n",
        "20\n",
        "40\n",
        "60\n",
        "\n",
        "Printing values\n",
        "\"\"\"\n",
        "\n",
        "def func1(*nums):\n",
        "  print(\"Printing values\")\n",
        "  for no in nums:\n",
        "    print(no)\n",
        "\n",
        "# call function with 3 arguments\n",
        "func1(20, 40, 60)\n",
        "\n",
        "print('\\n')\n",
        "\n",
        "# call function with 2 arguments\n",
        "func1(80, 100)"
      ],
      "metadata": {
        "colab": {
          "base_uri": "https://localhost:8080/"
        },
        "id": "Fau3r0w75LUk",
        "outputId": "b265d6d9-dac4-4864-f15b-6960433e1076"
      },
      "execution_count": null,
      "outputs": [
        {
          "output_type": "stream",
          "name": "stdout",
          "text": [
            "Printing values\n",
            "20\n",
            "40\n",
            "60\n",
            "\n",
            "\n",
            "Printing values\n",
            "80\n",
            "100\n"
          ]
        }
      ]
    },
    {
      "cell_type": "code",
      "source": [
        "# EX3: Return multiple values from a function\n",
        "\"\"\"\n",
        "Write a program to create function calculation() such that it can accept two variables and calculate addition and subtraction.\n",
        "Also, it must return both addition and subtraction in a single return call.\n",
        "\n",
        "Given:\n",
        "def calculation(a, b):\n",
        "  # Your Code \n",
        "  \n",
        "res = calculation(40, 10)\n",
        "print(res)\n",
        "\n",
        "Expected output:\n",
        "50, 30\n",
        "\"\"\"\n",
        "\n",
        "def calculation(a, b):\n",
        "  sum_val = a + b\n",
        "  sub_val = a - b\n",
        "  return sum_val, sub_val\n",
        "\n",
        "res = calculation(40, 10)\n",
        "print(res)"
      ],
      "metadata": {
        "colab": {
          "base_uri": "https://localhost:8080/"
        },
        "id": "lYl0E3vn6kpL",
        "outputId": "86ff7315-06ff-4795-b11a-1edb60d1b5c3"
      },
      "execution_count": null,
      "outputs": [
        {
          "output_type": "stream",
          "name": "stdout",
          "text": [
            "(50, 30)\n"
          ]
        }
      ]
    },
    {
      "cell_type": "code",
      "source": [
        "# EX4: Create a function with default argument\n",
        "\"\"\"\n",
        "Write a program to creae a function show_employee() suing the following conditions.\n",
        "- It should accept the employee 's name and salary and display both\n",
        "- If salary is missing in the function call then assign default value 9000 to salary\n",
        "\n",
        "Given:\n",
        "showEmployee(\"Ben\", 12000)\n",
        "showEmployee(\"Jessa\")\n",
        "\n",
        "Expected Output:\n",
        "Name: Ben salary: 12000\n",
        "Name: Jessa salary: 9000\n",
        "\"\"\"\n",
        "\n",
        "def showEmployee(name, salary = 9000):\n",
        "  print(\"Name: {} salary: {}\".format(name, salary))\n",
        "\n",
        "showEmployee(\"Ben\", 12000)\n",
        "print('\\n')\n",
        "showEmployee('Jessa')"
      ],
      "metadata": {
        "colab": {
          "base_uri": "https://localhost:8080/"
        },
        "id": "YRbHLvARHveG",
        "outputId": "f455d802-9fd2-458b-d09e-71450b1a8cb9"
      },
      "execution_count": null,
      "outputs": [
        {
          "output_type": "stream",
          "name": "stdout",
          "text": [
            "Name: Ben salary: 12000\n",
            "\n",
            "\n",
            "Name: Jessa salary: 9000\n"
          ]
        }
      ]
    },
    {
      "cell_type": "code",
      "source": [
        "# EX5: Create an inner function to calculate the addition in the following\n",
        "\"\"\"\n",
        "- Create an outer function that will accept two parameters, a and b\n",
        "- Create an inner function inside an outer function that will calculate the addition of a and b\n",
        "- At last, an outer function will add 5 into addition and return it\n",
        "\"\"\"\n",
        "\n",
        "def outer(a, b):\n",
        "\n",
        "  def inner():\n",
        "    nonlocal a\n",
        "    nonlocal b\n",
        "    return a + b\n",
        "\n",
        "  return inner() + 5\n",
        "\n",
        "# Call outer function and pass two arguments 4, 6 to it\n",
        "outer(4, 6)    "
      ],
      "metadata": {
        "colab": {
          "base_uri": "https://localhost:8080/"
        },
        "id": "VUatd4EXJyI_",
        "outputId": "f9b77938-513a-4551-caf2-6469175552d2"
      },
      "execution_count": null,
      "outputs": [
        {
          "output_type": "execute_result",
          "data": {
            "text/plain": [
              "15"
            ]
          },
          "metadata": {},
          "execution_count": 32
        }
      ]
    },
    {
      "cell_type": "code",
      "source": [
        "# EX6: Create a recursive function\n",
        "\"\"\"\n",
        "Write a program to create a recursive function to calculate the sum of numbers from o to 10.\n",
        "A recursive function is a function that calls itself, again and again.\n",
        "\n",
        "Expected Output:\n",
        "55\n",
        "\"\"\"\n",
        "\n",
        "def addRec(num):\n",
        "  if num:\n",
        "    return num + addRec(num - 1)\n",
        "  else:\n",
        "    return 0\n",
        "\n",
        "res = addRec(10)\n",
        "print(res)"
      ],
      "metadata": {
        "colab": {
          "base_uri": "https://localhost:8080/"
        },
        "id": "9KadQq7-L9jH",
        "outputId": "a13f9b38-d462-4c1b-deb2-2958e7bc0142"
      },
      "execution_count": null,
      "outputs": [
        {
          "output_type": "stream",
          "name": "stdout",
          "text": [
            "55\n"
          ]
        }
      ]
    },
    {
      "cell_type": "code",
      "source": [
        "# EX7: Assign a different name to function and call it through the new name\n",
        "\"\"\"\n",
        "Below is the function display_student(name, age).\n",
        "Assign a new name show_student(name, age) to it and call it using the new name.\n",
        "\n",
        "def display_student(name, age):\n",
        "  print(name, age)\n",
        "\n",
        "display_student(\"Emma\", 26)\n",
        "\n",
        "You should be able to call the same function using\n",
        "show_student(name, age)\n",
        "\"\"\"\n",
        "\n",
        "def display_student(name, age):\n",
        "  print(name, age)\n",
        "\n",
        "print('Call using the original name')\n",
        "display_student(\"Emma\", 26)\n",
        "\n",
        "# assign the new name\n",
        "showStudent = display_student\n",
        "\n",
        "print('\\n')\n",
        "\n",
        "print('Call using the original name')\n",
        "# call it using the new name\n",
        "showStudent(\"Emma\", 26)\n"
      ],
      "metadata": {
        "colab": {
          "base_uri": "https://localhost:8080/"
        },
        "id": "HV3iXPjTOitW",
        "outputId": "c751a52d-3cea-435c-d3b1-516d5d52e041"
      },
      "execution_count": null,
      "outputs": [
        {
          "output_type": "stream",
          "name": "stdout",
          "text": [
            "Call using the original name\n",
            "Emma 26\n",
            "\n",
            "\n",
            "Call using the original name\n",
            "Emma 26\n"
          ]
        }
      ]
    },
    {
      "cell_type": "code",
      "source": [
        "# EX8: Generate a python list of all the even numbers between 4 to 30\n",
        "\n",
        "even_numbers = list(range(4, 30, 2))\n",
        "print(even_numbers)\n"
      ],
      "metadata": {
        "colab": {
          "base_uri": "https://localhost:8080/"
        },
        "id": "veV79V5CUnmS",
        "outputId": "faccdbf9-a51f-4f1d-f371-1a1310c1f01b"
      },
      "execution_count": null,
      "outputs": [
        {
          "output_type": "stream",
          "name": "stdout",
          "text": [
            "[4, 6, 8, 10, 12, 14, 16, 18, 20, 22, 24, 26, 28]\n"
          ]
        }
      ]
    },
    {
      "cell_type": "code",
      "source": [
        "# EX9: Find the largest item from a given list\n",
        "\"\"\"\n",
        "X = [4, 6, 8, 24, 12, 2]\n",
        "\n",
        "Expected Output:\n",
        "24\n",
        "\"\"\"\n",
        "X = [4, 6, 8, 24, 12, 2]\n",
        "max_num = max(X)\n",
        "print(max_num)"
      ],
      "metadata": {
        "colab": {
          "base_uri": "https://localhost:8080/"
        },
        "id": "ey0m5w2DWMhz",
        "outputId": "8dda44d3-e627-4aec-ebe5-9f6d88404bfa"
      },
      "execution_count": null,
      "outputs": [
        {
          "output_type": "stream",
          "name": "stdout",
          "text": [
            "24\n"
          ]
        }
      ]
    }
  ]
}