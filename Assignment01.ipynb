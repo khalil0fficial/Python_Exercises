{
  "nbformat": 4,
  "nbformat_minor": 0,
  "metadata": {
    "colab": {
      "name": "Assignment01.ipynb",
      "provenance": [],
      "collapsed_sections": [],
      "authorship_tag": "ABX9TyMJDpJks5UI4H0PfIe8FyVU",
      "include_colab_link": true
    },
    "kernelspec": {
      "name": "python3",
      "display_name": "Python 3"
    },
    "language_info": {
      "name": "python"
    }
  },
  "cells": [
    {
      "cell_type": "markdown",
      "metadata": {
        "id": "view-in-github",
        "colab_type": "text"
      },
      "source": [
        "<a href=\"https://colab.research.google.com/github/khalil0fficial/Python_Exercises/blob/main/Assignment01.ipynb\" target=\"_parent\"><img src=\"https://colab.research.google.com/assets/colab-badge.svg\" alt=\"Open In Colab\"/></a>"
      ]
    },
    {
      "cell_type": "code",
      "source": [
        "# Ex1: Print First 10 natural numbers using while\n",
        "\"\"\"\n",
        "1\n",
        "2\n",
        "3\n",
        "4\n",
        "5\n",
        "6\n",
        "7\n",
        "8\n",
        "9\n",
        "10\n",
        "\"\"\"\n",
        "count = 1\n",
        "while (count <= 10):\n",
        "  print(count)\n",
        "  count += 1"
      ],
      "metadata": {
        "colab": {
          "base_uri": "https://localhost:8080/"
        },
        "id": "_0t34-K3H6eE",
        "outputId": "1a64dae4-d3f9-4fb9-85e9-a3573fa78bfa"
      },
      "execution_count": null,
      "outputs": [
        {
          "output_type": "stream",
          "name": "stdout",
          "text": [
            "1\n",
            "2\n",
            "3\n",
            "4\n",
            "5\n",
            "6\n",
            "7\n",
            "8\n",
            "9\n",
            "10\n"
          ]
        }
      ]
    },
    {
      "cell_type": "code",
      "source": [
        "# EX2 : Write a program to print the following number pattern using a loop\n",
        "\"\"\"\n",
        "1\n",
        "1 2\n",
        "1 2 3\n",
        "1 2 3 4 \n",
        "1 2 3 4 5\n",
        "\"\"\"\n",
        "\n",
        "for i in range(1,7):\n",
        "  for j in range(1,i) :\n",
        "    print(j, end =' ')\n",
        "  print(\"\\n\")  \n",
        "  i += 1"
      ],
      "metadata": {
        "colab": {
          "base_uri": "https://localhost:8080/"
        },
        "id": "GgGZISZ7IKok",
        "outputId": "64c9f5b1-ffee-413c-eaf4-f0a408e6e857"
      },
      "execution_count": null,
      "outputs": [
        {
          "output_type": "stream",
          "name": "stdout",
          "text": [
            "\n",
            "\n",
            "1 \n",
            "\n",
            "1 2 \n",
            "\n",
            "1 2 3 \n",
            "\n",
            "1 2 3 4 \n",
            "\n",
            "1 2 3 4 5 \n",
            "\n"
          ]
        }
      ]
    },
    {
      "cell_type": "code",
      "source": [
        "# EX3: Write a program to accept number from user and calculate the sum of all numbers from 1 to a given number\n",
        "# For example, if the user entered 10.. the output should be 55 (1+2+3+4+5+6+7+8+9+10)\n",
        "\n",
        "n = int(input(\"Enter a number:\"))\n",
        "count = 1\n",
        "sum = 0\n",
        "while count <= n :\n",
        "  sum += count\n",
        "  count = count + 1\n",
        "\n",
        "print(\"Sum of 1 to {0} is : {1}\".format(n, sum))\n"
      ],
      "metadata": {
        "colab": {
          "base_uri": "https://localhost:8080/"
        },
        "id": "1qRPxDVTJcTg",
        "outputId": "10a0c2a5-817a-4a77-9bb6-a7612995a9a8"
      },
      "execution_count": null,
      "outputs": [
        {
          "output_type": "stream",
          "name": "stdout",
          "text": [
            "Enter a number:10\n",
            "Sum of 1 to 10 is : 55\n"
          ]
        }
      ]
    },
    {
      "cell_type": "code",
      "source": [
        "# EX4: Write a program to print multiplication table of a given number\n",
        "\"\"\"\n",
        "2\n",
        "4\n",
        "6\n",
        "8\n",
        "10\n",
        "12\n",
        "14\n",
        "16\n",
        "18\n",
        "20\n",
        "\"\"\"\n",
        "\n",
        "n = int(input(\"Enter a number:\"))\n",
        "for i in range(1, 11):\n",
        "  print (i * n)"
      ],
      "metadata": {
        "colab": {
          "base_uri": "https://localhost:8080/"
        },
        "id": "RQl-z-mJt2K1",
        "outputId": "5879bca1-bd0e-4adb-a36b-986f39956ba7"
      },
      "execution_count": null,
      "outputs": [
        {
          "output_type": "stream",
          "name": "stdout",
          "text": [
            "Enter a number:2\n",
            "2\n",
            "4\n",
            "6\n",
            "8\n",
            "10\n",
            "12\n",
            "14\n",
            "16\n",
            "18\n",
            "20\n"
          ]
        }
      ]
    },
    {
      "cell_type": "code",
      "source": [
        "# EX5: Display numbers from a list using loop.\n",
        "\"\"\" \n",
        "Write a program to display only those numbers from a list that satisfy the following conditions\n",
        "1. The number must be divisible by five\n",
        "2. if the number greater than 150, then skip it and move the next number\n",
        "3. if the number greater than 500, then stop the loop\n",
        "\"\"\"\n",
        "\n",
        "numbers = [12, 75, 150, 180, 145, 525, 50]\n",
        "\n",
        "for i in numbers:\n",
        "  if  i > 150:\n",
        "      if i > 500:\n",
        "        break\n",
        "      continue\n",
        "  if i % 5 == 0:\n",
        "    print(i)\n",
        "  "
      ],
      "metadata": {
        "colab": {
          "base_uri": "https://localhost:8080/"
        },
        "id": "-47LxygVxOUD",
        "outputId": "c54098fd-6254-4e61-928a-669a9f1e7ebe"
      },
      "execution_count": null,
      "outputs": [
        {
          "output_type": "stream",
          "name": "stdout",
          "text": [
            "75\n",
            "150\n",
            "145\n"
          ]
        }
      ]
    },
    {
      "cell_type": "code",
      "source": [
        "# EX6: Count the total numbers of digits in a number\n",
        "\"\"\"\n",
        "write a program to count the total of digits in a number using a while loop\n",
        "for example, the number is 75869, so the output should be 5\n",
        "\"\"\"\n",
        "\n",
        "digits = input(\"Enter a number: \")\n",
        "count = 0\n",
        "for c in digits:\n",
        "  count = count +1\n",
        "print(\"The number is {0} and the count of its digits is {1}\".format(digits,count))\n"
      ],
      "metadata": {
        "id": "KRuWWg3i4exa",
        "colab": {
          "base_uri": "https://localhost:8080/"
        },
        "outputId": "f41027b7-35fb-4d7e-da49-6a65063b6be8"
      },
      "execution_count": null,
      "outputs": [
        {
          "output_type": "stream",
          "name": "stdout",
          "text": [
            "Enter a number: 75869\n",
            "The number is 75869 and the count of its digits is 5\n"
          ]
        }
      ]
    },
    {
      "cell_type": "code",
      "source": [
        "# EX7: Print the following pattern\n",
        "\"\"\"\n",
        "Write a program to use for loop to print the following reverse number pattern\n",
        "5 4 3 2 1 \n",
        "4 3 2 1\n",
        "3 2 1\n",
        "2 1\n",
        "1\n",
        "\"\"\"\n",
        "\n",
        "for i in range(5, 0, -1):\n",
        "  for j in range(i, 0, -1):\n",
        "    print(j, end =' ')\n",
        "  print(\"\\n\")"
      ],
      "metadata": {
        "colab": {
          "base_uri": "https://localhost:8080/"
        },
        "id": "fiMPjdFiOcPv",
        "outputId": "b793de74-341c-4be1-d029-9e7f0a43eaf4"
      },
      "execution_count": null,
      "outputs": [
        {
          "output_type": "stream",
          "name": "stdout",
          "text": [
            "5 4 3 2 1 \n",
            "\n",
            "4 3 2 1 \n",
            "\n",
            "3 2 1 \n",
            "\n",
            "2 1 \n",
            "\n",
            "1 \n",
            "\n"
          ]
        }
      ]
    },
    {
      "cell_type": "code",
      "source": [
        "# EX8: Print list in reverse order using a loop\n",
        "\n",
        "list1 = [10, 20, 30, 40, 50]\n",
        "\n",
        "# Using while loop\n",
        "print('Reversed List using While Loop')\n",
        "i = len(list1) - 1\n",
        "while i >= 0:\n",
        "  print(list1[i])\n",
        "  i -= 1\n",
        "\n",
        "# using for loop\n",
        "print('Reversed List using For Loop')\n",
        "for i in range(len(list1) - 1, -1, -1):\n",
        "  print(list1[i])"
      ],
      "metadata": {
        "colab": {
          "base_uri": "https://localhost:8080/"
        },
        "id": "hZt_NItFQ5-f",
        "outputId": "783f38ff-2036-4e18-efe9-396ecf992f36"
      },
      "execution_count": null,
      "outputs": [
        {
          "output_type": "stream",
          "name": "stdout",
          "text": [
            "Reversed List using While Loop\n",
            "50\n",
            "40\n",
            "30\n",
            "20\n",
            "10\n",
            "Reversed List using For Loop\n",
            "50\n",
            "40\n",
            "30\n",
            "20\n",
            "10\n"
          ]
        }
      ]
    },
    {
      "cell_type": "code",
      "source": [
        "# EX9: Display from -10 to -1 using for loop\n",
        "\n",
        "for i in range(-10, 0, 1):\n",
        "  print(f\"{i}\")"
      ],
      "metadata": {
        "colab": {
          "base_uri": "https://localhost:8080/"
        },
        "id": "vpSybxGYeDlY",
        "outputId": "3da993f8-b3b8-4b07-a5c1-0ea5f37950a7"
      },
      "execution_count": null,
      "outputs": [
        {
          "output_type": "stream",
          "name": "stdout",
          "text": [
            "-10\n",
            "-9\n",
            "-8\n",
            "-7\n",
            "-6\n",
            "-5\n",
            "-4\n",
            "-3\n",
            "-2\n",
            "-1\n"
          ]
        }
      ]
    },
    {
      "cell_type": "code",
      "source": [
        "# EX10: Use else block to display a message \"Done\" after sucessful execution of for loop\n",
        "# For example, the following loop will execute without any error\n",
        "\n",
        "for i in range(5):\n",
        "  print(i)\n",
        "\n",
        "else:\n",
        "  print(\"Done!\")\n"
      ],
      "metadata": {
        "colab": {
          "base_uri": "https://localhost:8080/"
        },
        "id": "5nAQDcqwiQb1",
        "outputId": "bc8dba50-4e66-49a4-8c85-0eefc86f670b"
      },
      "execution_count": null,
      "outputs": [
        {
          "output_type": "stream",
          "name": "stdout",
          "text": [
            "0\n",
            "1\n",
            "2\n",
            "3\n",
            "4\n",
            "Done!\n"
          ]
        }
      ]
    },
    {
      "cell_type": "code",
      "source": [
        "# EX11: Write a program to diaply all prime numbers within a range\n",
        "\"\"\"\n",
        "Note: \n",
        "A prime number is a number that cannot be made by multiplying other all numbers\n",
        "A prime number is a natural number greater than 1 that is not a product of two smaller\n",
        "natural numbers\n",
        "A prime number is only dividing by itself and 1\n",
        "Examples: \n",
        "  - 6 is not a prime number beacause it can be made by 2 x 3 = 6\n",
        "  - 37 is a prime number because no other whole numbers multiply together to make it\n",
        "\n",
        "Given:\n",
        "  range:\n",
        "    start = 25\n",
        "    end = 50\n",
        "\n",
        "Expected output:\n",
        "29\n",
        "31\n",
        "37\n",
        "41\n",
        "43\n",
        "47\n",
        "\"\"\"\n",
        "\n",
        "# min = int(input(\"Enter the min number: \"))\n",
        "# max = int(input(\"Enter the max number: \"))\n",
        "\n",
        "# using the given data:\n",
        "start = 25\n",
        "end = 50\n",
        "\n",
        "for n in range(start, end +1):\n",
        "  for i in range(2, n):\n",
        "    if n % i == 0:\n",
        "      break\n",
        "  else:\n",
        "    print(n, end = '\\n\\n')\n"
      ],
      "metadata": {
        "id": "el8A-ebfM-js",
        "colab": {
          "base_uri": "https://localhost:8080/"
        },
        "outputId": "30de0f02-933c-4f60-c5b3-bcf13339f454"
      },
      "execution_count": null,
      "outputs": [
        {
          "output_type": "stream",
          "name": "stdout",
          "text": [
            "29\n",
            "\n",
            "31\n",
            "\n",
            "37\n",
            "\n",
            "41\n",
            "\n",
            "43\n",
            "\n",
            "47\n",
            "\n"
          ]
        }
      ]
    },
    {
      "cell_type": "code",
      "source": [
        "# EX12: Display Fibonacci series up to 10 terms\n",
        "\"\"\"\n",
        "Fibnoacci Sequence is a series number. the next number is found by adding up the 2 numbers before it.\n",
        "The first two numbers are 0 and 1.\n",
        "For example: 0,1,1,2,3,5,8,13,21.\n",
        "The next number in this series above  13 + 21 = 34\n",
        "\n",
        "Expected output:\n",
        "0 1 1 2 3 5 8 13 21 34\n",
        "| | |\n",
        "n x res\n",
        "\"\"\"\n",
        "\n",
        "n = 0\n",
        "x = 1\n",
        "res = 0\n",
        "\n",
        "while x < 50:\n",
        "    if n == 0 :\n",
        "      print(n, end = ' ')\n",
        "    print(x, end = ' ')\n",
        "    res = n + x\n",
        "    n = x\n",
        "    x = res \n",
        "    \n",
        "    \n"
      ],
      "metadata": {
        "colab": {
          "base_uri": "https://localhost:8080/"
        },
        "id": "lG4YDeloPqgX",
        "outputId": "461646a4-6da9-4162-ca22-d7ccd4a2ea09"
      },
      "execution_count": null,
      "outputs": [
        {
          "output_type": "stream",
          "name": "stdout",
          "text": [
            "0 1 1 2 3 5 8 13 21 34 "
          ]
        }
      ]
    },
    {
      "cell_type": "code",
      "source": [
        "# EX13: Find the factorial of a given number\n",
        "\"\"\"\n",
        "write a program to use the loop to find the factorial of a given number.\n",
        "The factorial (symbol: !) means to multiply all whole numbers from the chosen number down to 1.\n",
        "For example: calculate the factorial of 5\n",
        "5! = 5 x 4 x 3 x 2 x 1 \n",
        "\n",
        "Expected output: 120\n",
        "\"\"\"\n",
        "\n",
        "n = int(input(\"Enter a number: \"))\n",
        "factorial_n = 1\n",
        "while (n > 0):\n",
        "  factorial_n *= n\n",
        "  n -= 1\n",
        "\n",
        "print(factorial_n)\n"
      ],
      "metadata": {
        "id": "fnEKScNgf9lX",
        "colab": {
          "base_uri": "https://localhost:8080/"
        },
        "outputId": "f74e6adf-026f-4073-e053-a99d5c1a4f2d"
      },
      "execution_count": null,
      "outputs": [
        {
          "output_type": "stream",
          "name": "stdout",
          "text": [
            "Enter a number: 5\n",
            "120\n"
          ]
        }
      ]
    },
    {
      "cell_type": "code",
      "source": [
        "# EX14: Reverse a given integer number \n",
        "\"\"\"\n",
        "Given: 76542\n",
        "Expected Output: 24567\n",
        "\"\"\"\n",
        "\n",
        "num = 76542\n",
        "# using map()\n",
        "# to convert number to list of integers\n",
        "lst_num = list(map(int, str(num)))\n",
        "for i in range(len(lst_num)-1, -1, -1):\n",
        "  print(lst_num[i], end = '')"
      ],
      "metadata": {
        "colab": {
          "base_uri": "https://localhost:8080/"
        },
        "id": "B-Fw10871pQS",
        "outputId": "43f7e339-9c8b-4f2b-92c5-bbe3b624f8f7"
      },
      "execution_count": null,
      "outputs": [
        {
          "output_type": "stream",
          "name": "stdout",
          "text": [
            "24567"
          ]
        }
      ]
    },
    {
      "cell_type": "code",
      "source": [
        "# EX15: Use a loop to display elements from a given list present at odd index positions\n",
        "\"\"\"\n",
        "Given:\n",
        "my_list = [10, 20, 30, 40, 50, 60, 70, 80, 90, 100]\n",
        "\n",
        "Note: list index always starts at 0\n",
        "\n",
        "Expected output:\n",
        "20 40 60 80 100\n",
        "\"\"\"\n",
        "\n",
        "my_list = [10, 20, 30, 40, 50, 60, 70, 80, 90, 100]\n",
        "for i in range(0, len(my_list)):\n",
        "  if i % 2 == 0 :\n",
        "    continue\n",
        "  else:\n",
        "    print(my_list[i], end = ' ')\n"
      ],
      "metadata": {
        "colab": {
          "base_uri": "https://localhost:8080/"
        },
        "id": "914rLnH441Me",
        "outputId": "6aca15e0-e570-4f46-f71c-b1746695a83f"
      },
      "execution_count": null,
      "outputs": [
        {
          "output_type": "stream",
          "name": "stdout",
          "text": [
            "20 40 60 80 100 "
          ]
        }
      ]
    },
    {
      "cell_type": "code",
      "source": [
        "# EX16: Calculate the cube of all numbers from 1 to a given number\n",
        "\"\"\"\n",
        "Write a program to rint the cube of all numbers from 1 to a given number\n",
        "\n",
        "Given:\n",
        "int_number = 6\n",
        "\n",
        "Expected Output:\n",
        "Current Number is : 1 and the cube is 1\n",
        "Current Number is : 2 and the cube is 8\n",
        "Current Number is : 3 and the cube is 27\n",
        "Current Number is : 4 and the cube is 64\n",
        "Current Number is : 5 and the cube is 125\n",
        "Current Number is : 6 and the cube is 216\n",
        "\"\"\"\n",
        "int_number = 6\n",
        "\n",
        "for i in range(1, int_number+1):\n",
        "  print(\"Current Number is : {0} and the cube is {1}\".format(i, i*i*i))"
      ],
      "metadata": {
        "colab": {
          "base_uri": "https://localhost:8080/"
        },
        "id": "g1z969RO8In5",
        "outputId": "bd91695b-0cfd-4b55-b4c3-4d770ff7c232"
      },
      "execution_count": null,
      "outputs": [
        {
          "output_type": "stream",
          "name": "stdout",
          "text": [
            "Current Number is : 1 and the cube is 1\n",
            "Current Number is : 2 and the cube is 8\n",
            "Current Number is : 3 and the cube is 27\n",
            "Current Number is : 4 and the cube is 64\n",
            "Current Number is : 5 and the cube is 125\n",
            "Current Number is : 6 and the cube is 216\n"
          ]
        }
      ]
    },
    {
      "cell_type": "code",
      "source": [
        "# EX17: Find the sum of the series up to n terms\n",
        "\"\"\"\n",
        "Write a program to calculate the sum of series up to n term.\n",
        "For example, if n =5 the series will become 2 + 22 + 222 + 2222 + 22222 = 24690 \n",
        "\n",
        "Given:\n",
        "# number of n terms\n",
        "n = 5\n",
        "\n",
        "Expected Output:\n",
        "24690\n",
        "\"\"\"\n",
        "\n",
        "number_of_terms = 5\n",
        "sum_val = 0\n",
        "for i in range (1, number_of_terms + 1):\n",
        "    num = eval('2'*i)\n",
        "    sum_val += num\n",
        "print(sum_val)"
      ],
      "metadata": {
        "colab": {
          "base_uri": "https://localhost:8080/"
        },
        "id": "kbJ2JACrB5a4",
        "outputId": "82f5136d-bd52-4ef7-8e56-f3b25df065b5"
      },
      "execution_count": null,
      "outputs": [
        {
          "output_type": "stream",
          "name": "stdout",
          "text": [
            "24690\n"
          ]
        }
      ]
    },
    {
      "cell_type": "code",
      "source": [
        "# EX18: Print the following pattern\n",
        "\"\"\"\n",
        "write a program to print the following start pattern using for loop\n",
        "*\n",
        "* *\n",
        "* * *\n",
        "* * * *\n",
        "* * * * *\n",
        "* * * *\n",
        "* * *\n",
        "* *\n",
        "*\n",
        "\"\"\"\n",
        "\n",
        "shape = '* '\n",
        "for i in range(1, 6):\n",
        "  print(shape * i)\n",
        "  if(i == 5):\n",
        "    for j in range(6, 0, -1):\n",
        "      print(shape * j)"
      ],
      "metadata": {
        "colab": {
          "base_uri": "https://localhost:8080/"
        },
        "id": "fZ1-4vpGIamV",
        "outputId": "46df0fe1-4d88-4437-eb4e-43bea8b17968"
      },
      "execution_count": null,
      "outputs": [
        {
          "output_type": "stream",
          "name": "stdout",
          "text": [
            "* \n",
            "* * \n",
            "* * * \n",
            "* * * * \n",
            "* * * * * \n",
            "* * * * * * \n",
            "* * * * * \n",
            "* * * * \n",
            "* * * \n",
            "* * \n",
            "* \n"
          ]
        }
      ]
    }
  ]
}